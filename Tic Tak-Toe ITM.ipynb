{
 "cells": [
  {
   "cell_type": "code",
   "execution_count": 1,
   "metadata": {},
   "outputs": [],
   "source": [
    "board = ['0','1','2','3','4','5','6','7','8','9']\n",
    "\n",
    "def dis_board(board):\n",
    "    print(' '+board[7]+' | '+board[8]+' | '+board[9]+' ')\n",
    "    print('----------')\n",
    "    print(' '+board[4]+' | '+board[5]+' | '+board[6]+' ')\n",
    "    print('----------')\n",
    "    print(' '+board[1]+' | '+board[2]+' | '+board[3]+' ')"
   ]
  },
  {
   "cell_type": "code",
   "execution_count": 2,
   "metadata": {},
   "outputs": [
    {
     "name": "stdout",
     "output_type": "stream",
     "text": [
      " 7 | 8 | 9 \n",
      "----------\n",
      " 4 | 5 | 6 \n",
      "----------\n",
      " 1 | 2 | 3 \n"
     ]
    }
   ],
   "source": [
    "dis_board(board)"
   ]
  },
  {
   "cell_type": "code",
   "execution_count": 3,
   "metadata": {},
   "outputs": [],
   "source": [
    "board = ['#','x','o','x','o','x','o','x','o','x', 'o']\n",
    "\n",
    "def dis_board(board):\n",
    "    print(' '+board[7]+' | '+board[8]+' | '+board[9]+' ')\n",
    "    print('----------')\n",
    "    print(' '+board[4]+' | '+board[5]+' | '+board[6]+' ')\n",
    "    print('----------')\n",
    "    print(' '+board[1]+' | '+board[2]+' | '+board[3]+' ')"
   ]
  },
  {
   "cell_type": "code",
   "execution_count": 4,
   "metadata": {},
   "outputs": [
    {
     "name": "stdout",
     "output_type": "stream",
     "text": [
      " x | o | x \n",
      "----------\n",
      " o | x | o \n",
      "----------\n",
      " x | o | x \n"
     ]
    }
   ],
   "source": [
    "dis_board(board)"
   ]
  },
  {
   "cell_type": "code",
   "execution_count": 5,
   "metadata": {},
   "outputs": [],
   "source": [
    "from IPython.display import clear_output\n",
    "\n",
    "board = ['#','x','o','x','o','x','o','x','o','x', 'o']\n",
    "\n",
    "def dis_board(board):\n",
    "    clear_output()\n",
    "    print(' '+board[7]+' | '+board[8]+' | '+board[9]+' ')\n",
    "    print('----------')\n",
    "    print(' '+board[4]+' | '+board[5]+' | '+board[6]+' ')\n",
    "    print('----------')\n",
    "    print(' '+board[1]+' | '+board[2]+' | '+board[3]+' ')"
   ]
  },
  {
   "cell_type": "code",
   "execution_count": 6,
   "metadata": {},
   "outputs": [
    {
     "name": "stdout",
     "output_type": "stream",
     "text": [
      " x | o | x \n",
      "----------\n",
      " o | x | o \n",
      "----------\n",
      " x | o | x \n"
     ]
    }
   ],
   "source": [
    "dis_board(board)"
   ]
  },
  {
   "cell_type": "code",
   "execution_count": 7,
   "metadata": {},
   "outputs": [],
   "source": [
    "def player_input():\n",
    "    marker = ''\n",
    "    \n",
    "    while not (marker == 'X' or marker == 'O'):\n",
    "        marker = input(\"Enter a Marker X/O : \").upper()\n",
    "        \n",
    "    if marker == 'X':\n",
    "        return ('X', 'O')\n",
    "    else:\n",
    "        return ('O', 'X')\n",
    "    print(marker)"
   ]
  },
  {
   "cell_type": "code",
   "execution_count": 8,
   "metadata": {},
   "outputs": [
    {
     "name": "stdout",
     "output_type": "stream",
     "text": [
      "Enter a Marker X/O : O\n"
     ]
    },
    {
     "data": {
      "text/plain": [
       "('O', 'X')"
      ]
     },
     "execution_count": 8,
     "metadata": {},
     "output_type": "execute_result"
    }
   ],
   "source": [
    "player_input()"
   ]
  },
  {
   "cell_type": "code",
   "execution_count": null,
   "metadata": {},
   "outputs": [],
   "source": [
    "def place_marker(board, marker, position):\n",
    "    board[position] = marker"
   ]
  },
  {
   "cell_type": "code",
   "execution_count": 10,
   "metadata": {},
   "outputs": [],
   "source": [
    "place_marker(board, \"x\", 5)"
   ]
  },
  {
   "cell_type": "code",
   "execution_count": 11,
   "metadata": {},
   "outputs": [
    {
     "name": "stdout",
     "output_type": "stream",
     "text": [
      " x | o | x \n",
      "----------\n",
      " o | x | o \n",
      "----------\n",
      " x | o | x \n"
     ]
    }
   ],
   "source": [
    "dis_board(board)"
   ]
  },
  {
   "cell_type": "code",
   "execution_count": 12,
   "metadata": {},
   "outputs": [],
   "source": [
    "def win_check(board,marker):\n",
    "    if ((board[7]==marker and board[8]==marker and board[9]==marker) \n",
    "    or (board[4]==marker and board[5]==marker and board[6]==marker)\n",
    "    or (board[1]==marker and board[2]==marker and board[3]==marker)\n",
    "    or (board[7]==marker and board[4]==marker and board[1]==marker)\n",
    "    or (board[8]==marker and board[5]==marker and board[2]==marker)\n",
    "    or (board[9]==marker and board[6]==marker and board[3]==marker)\n",
    "    or (board[7]==marker and board[5]==marker and board[3]==marker)\n",
    "    or (board[1]==marker and board[5]==marker and board[9]==marker)):\n",
    "        return True\n",
    "    else:\n",
    "        return False"
   ]
  },
  {
   "cell_type": "code",
   "execution_count": 13,
   "metadata": {},
   "outputs": [
    {
     "data": {
      "text/plain": [
       "True"
      ]
     },
     "execution_count": 13,
     "metadata": {},
     "output_type": "execute_result"
    }
   ],
   "source": [
    "win_check(board,'x')"
   ]
  },
  {
   "cell_type": "code",
   "execution_count": 14,
   "metadata": {},
   "outputs": [
    {
     "data": {
      "text/plain": [
       "False"
      ]
     },
     "execution_count": 14,
     "metadata": {},
     "output_type": "execute_result"
    }
   ],
   "source": [
    "win_check(board,'o')"
   ]
  },
  {
   "cell_type": "code",
   "execution_count": 15,
   "metadata": {},
   "outputs": [],
   "source": [
    "import random\n",
    "\n",
    "def select_player():\n",
    "    num = random.randint(0,1)\n",
    "    \n",
    "    if num==1:\n",
    "        return 'player 1'\n",
    "    else:\n",
    "        return 'player 2'"
   ]
  },
  {
   "cell_type": "code",
   "execution_count": 16,
   "metadata": {},
   "outputs": [
    {
     "data": {
      "text/plain": [
       "'player 1'"
      ]
     },
     "execution_count": 16,
     "metadata": {},
     "output_type": "execute_result"
    }
   ],
   "source": [
    "select_player()"
   ]
  },
  {
   "cell_type": "code",
   "execution_count": 17,
   "metadata": {},
   "outputs": [],
   "source": [
    "select_player()\n",
    "def board_space(board, position):\n",
    "    return board(position)==\"\""
   ]
  },
  {
   "cell_type": "code",
   "execution_count": 18,
   "metadata": {},
   "outputs": [],
   "source": [
    "board = ['#','x','o','x',' ','x','o',' ','o','x', 'o']\n",
    "\n",
    "def dis_board(board):\n",
    "    clear_output()\n",
    "    print(' '+board[7]+' | '+board[8]+' | '+board[9]+' ')\n",
    "    print('----------')\n",
    "    print(' '+board[4]+' | '+board[5]+' | '+board[6]+' ')\n",
    "    print('----------')\n",
    "    print(' '+board[1]+' | '+board[2]+' | '+board[3]+' ')"
   ]
  },
  {
   "cell_type": "code",
   "execution_count": 19,
   "metadata": {},
   "outputs": [
    {
     "name": "stdout",
     "output_type": "stream",
     "text": [
      "   | o | x \n",
      "----------\n",
      "   | x | o \n",
      "----------\n",
      " x | o | x \n"
     ]
    }
   ],
   "source": [
    "dis_board(board)"
   ]
  },
  {
   "cell_type": "code",
   "execution_count": 20,
   "metadata": {},
   "outputs": [],
   "source": [
    "def board_space(board, position):\n",
    "    return board[position]==\" \""
   ]
  },
  {
   "cell_type": "code",
   "execution_count": 21,
   "metadata": {},
   "outputs": [
    {
     "data": {
      "text/plain": [
       "False"
      ]
     },
     "execution_count": 21,
     "metadata": {},
     "output_type": "execute_result"
    }
   ],
   "source": [
    "board_space(board,0)"
   ]
  },
  {
   "cell_type": "code",
   "execution_count": 22,
   "metadata": {},
   "outputs": [],
   "source": [
    "def full_board(board):\n",
    "    isfull = True\n",
    "    for i in board:\n",
    "        if i == ' ':\n",
    "            isfull = False\n",
    "        return isfull"
   ]
  },
  {
   "cell_type": "code",
   "execution_count": 23,
   "metadata": {},
   "outputs": [
    {
     "data": {
      "text/plain": [
       "True"
      ]
     },
     "execution_count": 23,
     "metadata": {},
     "output_type": "execute_result"
    }
   ],
   "source": [
    "full_board(board)"
   ]
  },
  {
   "cell_type": "code",
   "execution_count": 24,
   "metadata": {},
   "outputs": [],
   "source": [
    "def full_board(board):\n",
    "    for i in range(1,10):\n",
    "        if board_space(board,i):\n",
    "            return False\n",
    "        return True"
   ]
  },
  {
   "cell_type": "code",
   "execution_count": 25,
   "metadata": {},
   "outputs": [
    {
     "data": {
      "text/plain": [
       "True"
      ]
     },
     "execution_count": 25,
     "metadata": {},
     "output_type": "execute_result"
    }
   ],
   "source": [
    "full_board(board)"
   ]
  },
  {
   "cell_type": "code",
   "execution_count": 26,
   "metadata": {},
   "outputs": [],
   "source": [
    "def position_choice(board):\n",
    "    position = 0\n",
    "    \n",
    "    while position not in range(1,10) or not board_space(board,position):\n",
    "        position = int(input(\"input your number: \"))\n",
    "    \n",
    "    return position"
   ]
  },
  {
   "cell_type": "code",
   "execution_count": 28,
   "metadata": {},
   "outputs": [
    {
     "name": "stdout",
     "output_type": "stream",
     "text": [
      "input your number: 0\n",
      "input your number: 1\n",
      "input your number: 2\n",
      "input your number: 3\n",
      "input your number: 4\n"
     ]
    },
    {
     "data": {
      "text/plain": [
       "4"
      ]
     },
     "execution_count": 28,
     "metadata": {},
     "output_type": "execute_result"
    }
   ],
   "source": [
    "position_choice(board)"
   ]
  },
  {
   "cell_type": "code",
   "execution_count": 45,
   "metadata": {},
   "outputs": [],
   "source": [
    "def play_again(Board):\n",
    "    return input(\"yes / no: \").lower().startswith('y')"
   ]
  },
  {
   "cell_type": "code",
   "execution_count": 47,
   "metadata": {},
   "outputs": [
    {
     "name": "stdout",
     "output_type": "stream",
     "text": [
      "yes / no: yes\n"
     ]
    },
    {
     "data": {
      "text/plain": [
       "True"
      ]
     },
     "execution_count": 47,
     "metadata": {},
     "output_type": "execute_result"
    }
   ],
   "source": [
    "play_again(board)"
   ]
  },
  {
   "cell_type": "code",
   "execution_count": null,
   "metadata": {},
   "outputs": [],
   "source": []
  }
 ],
 "metadata": {
  "kernelspec": {
   "display_name": "Python 3",
   "language": "python",
   "name": "python3"
  },
  "language_info": {
   "codemirror_mode": {
    "name": "ipython",
    "version": 3
   },
   "file_extension": ".py",
   "mimetype": "text/x-python",
   "name": "python",
   "nbconvert_exporter": "python",
   "pygments_lexer": "ipython3",
   "version": "3.7.0"
  }
 },
 "nbformat": 4,
 "nbformat_minor": 2
}
